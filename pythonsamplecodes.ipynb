{
 "cells": [
  {
   "cell_type": "code",
   "execution_count": 1,
   "id": "6d105398",
   "metadata": {},
   "outputs": [
    {
     "data": {
      "text/plain": [
       "'leelaleela'"
      ]
     },
     "execution_count": 1,
     "metadata": {},
     "output_type": "execute_result"
    }
   ],
   "source": [
    "\"leela\"*2"
   ]
  },
  {
   "cell_type": "code",
   "execution_count": 2,
   "id": "5c4f0a1b",
   "metadata": {},
   "outputs": [
    {
     "ename": "TypeError",
     "evalue": "can't multiply sequence by non-int of type 'str'",
     "output_type": "error",
     "traceback": [
      "\u001b[1;31m---------------------------------------------------------------------------\u001b[0m",
      "\u001b[1;31mTypeError\u001b[0m                                 Traceback (most recent call last)",
      "\u001b[1;32m~\\AppData\\Local\\Temp/ipykernel_9752/2116226872.py\u001b[0m in \u001b[0;36m<module>\u001b[1;34m\u001b[0m\n\u001b[1;32m----> 1\u001b[1;33m \u001b[1;34m\"leela\"\u001b[0m\u001b[1;33m*\u001b[0m\u001b[1;34m\"leela\"\u001b[0m\u001b[1;33m\u001b[0m\u001b[1;33m\u001b[0m\u001b[0m\n\u001b[0m",
      "\u001b[1;31mTypeError\u001b[0m: can't multiply sequence by non-int of type 'str'"
     ]
    }
   ],
   "source": [
    "\"leela\"*\"leela\""
   ]
  },
  {
   "cell_type": "code",
   "execution_count": 19,
   "id": "6d06be52",
   "metadata": {},
   "outputs": [
    {
     "name": "stdout",
     "output_type": "stream",
     "text": [
      "enter an integer for a45\n",
      "enter an integer for b34\n",
      "enter an integer for c67\n"
     ]
    }
   ],
   "source": [
    "a = int(input(\"enter an integer for a\"))\n",
    "b = int(input(\"enter an integer for b\"))\n",
    "c = int(input(\"enter an integer for c\"))"
   ]
  },
  {
   "cell_type": "code",
   "execution_count": 20,
   "id": "c720dfd7",
   "metadata": {},
   "outputs": [],
   "source": [
    "o = (a+b)/c"
   ]
  },
  {
   "cell_type": "code",
   "execution_count": 21,
   "id": "b2c58324",
   "metadata": {},
   "outputs": [
    {
     "name": "stdout",
     "output_type": "stream",
     "text": [
      "1.1791044776119404\n"
     ]
    }
   ],
   "source": [
    "print(o)"
   ]
  },
  {
   "cell_type": "code",
   "execution_count": 22,
   "id": "0b01d15e",
   "metadata": {},
   "outputs": [
    {
     "name": "stdout",
     "output_type": "stream",
     "text": [
      "(79.17910447761194+6j)\n"
     ]
    }
   ],
   "source": [
    "o1 = o+78+6j\n",
    "print(o1)"
   ]
  },
  {
   "cell_type": "code",
   "execution_count": 26,
   "id": "e6c617d5",
   "metadata": {},
   "outputs": [
    {
     "ename": "TypeError",
     "evalue": "unsupported operand type(s) for +: 'complex' and 'str'",
     "output_type": "error",
     "traceback": [
      "\u001b[1;31m---------------------------------------------------------------------------\u001b[0m",
      "\u001b[1;31mTypeError\u001b[0m                                 Traceback (most recent call last)",
      "\u001b[1;32m~\\AppData\\Local\\Temp/ipykernel_9752/4002412180.py\u001b[0m in \u001b[0;36m<module>\u001b[1;34m\u001b[0m\n\u001b[1;32m----> 1\u001b[1;33m \u001b[0mprint\u001b[0m\u001b[1;33m(\u001b[0m\u001b[0mo1\u001b[0m\u001b[1;33m+\u001b[0m\u001b[1;34m\"leela\"\u001b[0m\u001b[1;33m)\u001b[0m\u001b[1;33m\u001b[0m\u001b[1;33m\u001b[0m\u001b[0m\n\u001b[0m",
      "\u001b[1;31mTypeError\u001b[0m: unsupported operand type(s) for +: 'complex' and 'str'"
     ]
    }
   ],
   "source": [
    "print(o1+\"leela\")"
   ]
  },
  {
   "cell_type": "code",
   "execution_count": 27,
   "id": "f8007d26",
   "metadata": {},
   "outputs": [
    {
     "name": "stdout",
     "output_type": "stream",
     "text": [
      "(79.17910447761194+6j)leela\n"
     ]
    }
   ],
   "source": [
    "print(str(o1)+\"leela\")"
   ]
  },
  {
   "cell_type": "code",
   "execution_count": 38,
   "id": "a5014289",
   "metadata": {},
   "outputs": [],
   "source": [
    "s = \"leela\"\n",
    "ss=\"\"\n",
    "for i in range(len(s)):\n",
    "    if s[i]=='a':\n",
    "        continue\n",
    "    else:\n",
    "        ss=ss+s[i]"
   ]
  },
  {
   "cell_type": "code",
   "execution_count": 39,
   "id": "d9348290",
   "metadata": {},
   "outputs": [
    {
     "data": {
      "text/plain": [
       "'leel'"
      ]
     },
     "execution_count": 39,
     "metadata": {},
     "output_type": "execute_result"
    }
   ],
   "source": [
    "ss"
   ]
  },
  {
   "cell_type": "code",
   "execution_count": 21,
   "id": "85ad611f",
   "metadata": {},
   "outputs": [
    {
     "name": "stdout",
     "output_type": "stream",
     "text": [
      "# # # # # # # # # # # # # \n",
      "  # # # # # # # # # # # \n",
      "    # # # # # # # # # \n",
      "      # # # # # # # \n",
      "        # # # # # \n",
      "          # # # \n",
      "            # \n"
     ]
    }
   ],
   "source": [
    "n=7\n",
    "for i in range(n,0,-1):\n",
    "    for j in range(n-i):\n",
    "        print(' ',end =' ')\n",
    "    for j in range(2*i-1):\n",
    "        print('#',end=' ')\n",
    "    print()"
   ]
  },
  {
   "cell_type": "code",
   "execution_count": 1,
   "id": "916ec640",
   "metadata": {},
   "outputs": [],
   "source": [
    "a = \"we all are a part of Full Stack\""
   ]
  },
  {
   "cell_type": "code",
   "execution_count": 2,
   "id": "acb97a5a",
   "metadata": {},
   "outputs": [
    {
     "data": {
      "text/plain": [
       "'we all are a part of full stack'"
      ]
     },
     "execution_count": 2,
     "metadata": {},
     "output_type": "execute_result"
    }
   ],
   "source": [
    "a.lower()"
   ]
  },
  {
   "cell_type": "code",
   "execution_count": 7,
   "id": "db021af8",
   "metadata": {},
   "outputs": [
    {
     "name": "stdout",
     "output_type": "stream",
     "text": [
      "3\n",
      "7\n",
      "11\n",
      "14\n",
      "28\n",
      "5\n"
     ]
    }
   ],
   "source": [
    "a = \"we all are a part of Full Stack\"\n",
    "count=0\n",
    "for i in range(len(a)):\n",
    "    if (a[i]=='a'):\n",
    "        print(i)\n",
    "        count+=1\n",
    "print(count)"
   ]
  },
  {
   "cell_type": "code",
   "execution_count": 19,
   "id": "18b6371a",
   "metadata": {},
   "outputs": [
    {
     "data": {
      "text/plain": [
       "'we ineuronll ineuronre ineuron pineuronrt of Full Stineuronck'"
      ]
     },
     "execution_count": 19,
     "metadata": {},
     "output_type": "execute_result"
    }
   ],
   "source": [
    "a = \"we all are a part of Full Stack\"\n",
    "d=a.replace('a','ineuron')\n",
    "d"
   ]
  },
  {
   "cell_type": "code",
   "execution_count": 20,
   "id": "67838302",
   "metadata": {},
   "outputs": [
    {
     "data": {
      "text/plain": [
       "'we ineuronll ineuronre ineuron pineuronrt of Full Stineuronck'"
      ]
     },
     "execution_count": 20,
     "metadata": {},
     "output_type": "execute_result"
    }
   ],
   "source": [
    "d"
   ]
  },
  {
   "cell_type": "code",
   "execution_count": 22,
   "id": "d0175c8f",
   "metadata": {},
   "outputs": [
    {
     "data": {
      "text/plain": [
       "['we',\n",
       " 'ineuronll',\n",
       " 'ineuronre',\n",
       " 'ineuron',\n",
       " 'pineuronrt',\n",
       " 'of',\n",
       " 'Full',\n",
       " 'Stineuronck']"
      ]
     },
     "execution_count": 22,
     "metadata": {},
     "output_type": "execute_result"
    }
   ],
   "source": [
    "d.split()"
   ]
  },
  {
   "cell_type": "code",
   "execution_count": 15,
   "id": "7214ec56",
   "metadata": {},
   "outputs": [],
   "source": [
    "a1.append(a)"
   ]
  },
  {
   "cell_type": "code",
   "execution_count": 16,
   "id": "1ad5a778",
   "metadata": {},
   "outputs": [
    {
     "data": {
      "text/plain": [
       "['we all are a part of Full Stack']"
      ]
     },
     "execution_count": 16,
     "metadata": {},
     "output_type": "execute_result"
    }
   ],
   "source": [
    "a1"
   ]
  },
  {
   "cell_type": "code",
   "execution_count": 24,
   "id": "1fa913d7",
   "metadata": {},
   "outputs": [
    {
     "name": "stdout",
     "output_type": "stream",
     "text": [
      "k\n",
      "c\n",
      "a\n",
      "t\n",
      "S\n",
      " \n",
      "l\n",
      "l\n",
      "u\n",
      "F\n",
      " \n",
      "f\n",
      "o\n",
      " \n",
      "t\n",
      "r\n",
      "a\n",
      "p\n",
      " \n",
      "a\n",
      " \n",
      "e\n",
      "r\n",
      "a\n",
      " \n",
      "l\n",
      "l\n",
      "a\n",
      " \n",
      "e\n",
      "w\n"
     ]
    }
   ],
   "source": [
    "a = \"we all are a part of Full Stack\"\n",
    "s = len(a)-1\n",
    "while s>=0:\n",
    "    print(a[s])\n",
    "    s = s-1\n"
   ]
  },
  {
   "cell_type": "code",
   "execution_count": 25,
   "id": "1c97905a",
   "metadata": {},
   "outputs": [
    {
     "data": {
      "text/plain": [
       "'kcatS lluF fo trap a era lla ew'"
      ]
     },
     "execution_count": 25,
     "metadata": {},
     "output_type": "execute_result"
    }
   ],
   "source": [
    "a = \"we all are a part of Full Stack\"\n",
    "a1=a[::-1]\n",
    "a1"
   ]
  },
  {
   "cell_type": "code",
   "execution_count": 1,
   "id": "26abd280",
   "metadata": {},
   "outputs": [
    {
     "data": {
      "text/plain": [
       "[30, 40, 50, 'leela']"
      ]
     },
     "execution_count": 1,
     "metadata": {},
     "output_type": "execute_result"
    }
   ],
   "source": [
    "l = [30,40,50,\"leela\"]\n",
    "l"
   ]
  },
  {
   "cell_type": "code",
   "execution_count": 2,
   "id": "e761f073",
   "metadata": {},
   "outputs": [
    {
     "data": {
      "text/plain": [
       "'leela'"
      ]
     },
     "execution_count": 2,
     "metadata": {},
     "output_type": "execute_result"
    }
   ],
   "source": [
    "l[3]"
   ]
  },
  {
   "cell_type": "code",
   "execution_count": 4,
   "id": "e045a4af",
   "metadata": {},
   "outputs": [
    {
     "data": {
      "text/plain": [
       "[30]"
      ]
     },
     "execution_count": 4,
     "metadata": {},
     "output_type": "execute_result"
    }
   ],
   "source": [
    "l[0:2:2]"
   ]
  },
  {
   "cell_type": "code",
   "execution_count": 11,
   "id": "f51ddcc0",
   "metadata": {},
   "outputs": [
    {
     "data": {
      "text/plain": [
       "[50, 40]"
      ]
     },
     "execution_count": 11,
     "metadata": {},
     "output_type": "execute_result"
    }
   ],
   "source": [
    "l[-2:0:-1]"
   ]
  },
  {
   "cell_type": "code",
   "execution_count": 12,
   "id": "4f253070",
   "metadata": {},
   "outputs": [],
   "source": [
    "s = \"aravind\""
   ]
  },
  {
   "cell_type": "code",
   "execution_count": 13,
   "id": "0f8b977f",
   "metadata": {},
   "outputs": [
    {
     "ename": "TypeError",
     "evalue": "can only concatenate list (not \"str\") to list",
     "output_type": "error",
     "traceback": [
      "\u001b[1;31m---------------------------------------------------------------------------\u001b[0m",
      "\u001b[1;31mTypeError\u001b[0m                                 Traceback (most recent call last)",
      "\u001b[1;32m~\\AppData\\Local\\Temp/ipykernel_17928/1140923193.py\u001b[0m in \u001b[0;36m<module>\u001b[1;34m\u001b[0m\n\u001b[1;32m----> 1\u001b[1;33m \u001b[0ml\u001b[0m\u001b[1;33m+\u001b[0m\u001b[0ms\u001b[0m\u001b[1;33m\u001b[0m\u001b[1;33m\u001b[0m\u001b[0m\n\u001b[0m",
      "\u001b[1;31mTypeError\u001b[0m: can only concatenate list (not \"str\") to list"
     ]
    }
   ],
   "source": [
    "l+s"
   ]
  },
  {
   "cell_type": "code",
   "execution_count": 16,
   "id": "784aa0d4",
   "metadata": {},
   "outputs": [],
   "source": [
    "s = list(s)"
   ]
  },
  {
   "cell_type": "code",
   "execution_count": 17,
   "id": "1b01ade0",
   "metadata": {},
   "outputs": [
    {
     "data": {
      "text/plain": [
       "[30, 40, 50, 'leela', 'a', 'r', 'a', 'v', 'i', 'n', 'd']"
      ]
     },
     "execution_count": 17,
     "metadata": {},
     "output_type": "execute_result"
    }
   ],
   "source": [
    "l+s"
   ]
  },
  {
   "cell_type": "code",
   "execution_count": null,
   "id": "f359825d",
   "metadata": {},
   "outputs": [],
   "source": []
  }
 ],
 "metadata": {
  "kernelspec": {
   "display_name": "Python 3 (ipykernel)",
   "language": "python",
   "name": "python3"
  },
  "language_info": {
   "codemirror_mode": {
    "name": "ipython",
    "version": 3
   },
   "file_extension": ".py",
   "mimetype": "text/x-python",
   "name": "python",
   "nbconvert_exporter": "python",
   "pygments_lexer": "ipython3",
   "version": "3.9.7"
  }
 },
 "nbformat": 4,
 "nbformat_minor": 5
}
